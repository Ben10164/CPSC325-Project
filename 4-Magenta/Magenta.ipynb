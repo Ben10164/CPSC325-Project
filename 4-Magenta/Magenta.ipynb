{
 "cells": [
  {
   "attachments": {},
   "cell_type": "markdown",
   "metadata": {
    "vscode": {
     "languageId": "bat"
    }
   },
   "source": [
    "```bat\n",
    "conda install HDF5\n",
    "```\n",
    "\n",
    "taken from https://gist.github.com/xstasi/30123f5976abb5b6c90114b92986a155 \n",
    "```bat\n",
    "pip install -r requirements-magenta-cpu-apple-m1-m2.txt --no-deps\n",
    "```"
   ]
  }
 ],
 "metadata": {
  "kernelspec": {
   "display_name": "base",
   "language": "python",
   "name": "python3"
  },
  "language_info": {
   "codemirror_mode": {
    "name": "ipython",
    "version": 3
   },
   "file_extension": ".py",
   "mimetype": "text/x-python",
   "name": "python",
   "nbconvert_exporter": "python",
   "pygments_lexer": "ipython3",
   "version": "3.11.0"
  },
  "orig_nbformat": 4,
  "vscode": {
   "interpreter": {
    "hash": "5f8c5c8ab154ffd7b7cf769370d90abd279d12a3d937a702f83e9fc02204b3d3"
   }
  }
 },
 "nbformat": 4,
 "nbformat_minor": 2
}
