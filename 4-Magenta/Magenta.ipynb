{
 "cells": [
  {
   "attachments": {},
   "cell_type": "markdown",
   "metadata": {
    "vscode": {
     "languageId": "bat"
    }
   },
   "source": [
    "```bat\n",
    "conda install HDF5\n",
    "```\n",
    "\n",
    "taken from https://gist.github.com/xstasi/30123f5976abb5b6c90114b92986a155 \n",
    "```bat\n",
    "brew install portaudio\n",
    "brew link portaudio\n",
    "# copy this\n",
    "brew --prefix portaudio\n",
    "\n",
    "sudo nano $HOME/.pydistutils.cfg\n",
    "\n",
    "# past the following\n",
    "[build_ext]\n",
    "include_dirs=<PATH FROM STEP 3>/include/\n",
    "library_dirs=<PATH FROM STEP 3>/lib/\n",
    "\n",
    "pip install -r requirements-magenta-cpu-apple-m1-m2.txt --no-deps\n",
    "```"
   ]
  },
  {
   "attachments": {},
   "cell_type": "markdown",
   "metadata": {},
   "source": [
    "```bash\n",
    "#@test {\"output\": \"ignore\"}\n",
    "print('Installing dependencies...')\n",
    "!apt-get update -qq && apt-get install -qq libfluidsynth2 fluid-soundfont-gm build-essential libasound2-dev libjack-dev\n",
    "!pip install -qU pyfluidsynth pretty_midi\n",
    "\n",
    "!pip install -qU magenta\n",
    "\n",
    "pip install google.colab\n",
    "```"
   ]
  },
  {
   "attachments": {},
   "cell_type": "markdown",
   "metadata": {},
   "source": [
    "psych, okay so none of this worked because there are problems that went way over my head.\n",
    "\n",
    "i found a docker container though: https://github.com/xychelsea/magenta-docker \n",
    "\n",
    "```bash\n",
    "docker pull xychelsea/magenta:latest-jupyter\n",
    "```"
   ]
  },
  {
   "attachments": {},
   "cell_type": "markdown",
   "metadata": {},
   "source": [
    "SCRATCH ALL OF THAT:\n",
    "\n",
    "Introducing Google-Colab :)\n",
    "\n",
    "okay so their colab notebooks are having some issues. so there has been very little progress made today... :(\n",
    "\n",
    "Today:\n",
    "* I tried to get magenta working\n",
    "  * figured out the pyaudio and portaudio issues\n",
    "  * figured out the .pydistutils.cfg issue\n",
    "  * ran into problems with fluidsynth and its integration with pyfluidsynth\n",
    "* fluidsynth would not be recognized by pyfluidsynth    \n",
    "  * also an issue in google-colab, so might be widespread\n",
    "* found a docker container\n",
    "  * did not seem to work as i expected it to\n",
    "  * intended for running magenta's precompilled results rather than building/developing new ones\n",
    "* google-colab\n",
    "  * the most promising of the bunch at first, but ran into problems with `libfluidsynth.so.1` that people have broughten up on github\n"
   ]
  },
  {
   "attachments": {},
   "cell_type": "markdown",
   "metadata": {},
   "source": [
    "# update\n",
    "\n",
    "the issue is that there is no `tensorflow` version for mac. instead it is called tensorflow-macos\n",
    "\n",
    "made my own sh file to create a conda environment. \n",
    "\n",
    "```bash\n",
    "install ipykernel\n",
    "\n",
    "conda install -c apple tensorflow-deps\n",
    "python -m pip install tensorflow-macos\n",
    "python -m pip install tensorflow-metal\n",
    "pip install --no-deps magenta==2.1.4\n",
    "pip install -r output\n",
    "# pip install -r output2\n",
    "\n",
    "```"
   ]
  },
  {
   "cell_type": "code",
   "execution_count": 4,
   "metadata": {},
   "outputs": [],
   "source": [
    "import magenta\n",
    "\n",
    "# FINALLY"
   ]
  }
 ],
 "metadata": {
  "kernelspec": {
   "display_name": "magenta",
   "language": "python",
   "name": "python3"
  },
  "language_info": {
   "codemirror_mode": {
    "name": "ipython",
    "version": 3
   },
   "file_extension": ".py",
   "mimetype": "text/x-python",
   "name": "python",
   "nbconvert_exporter": "python",
   "pygments_lexer": "ipython3",
   "version": "3.8.16"
  },
  "orig_nbformat": 4,
  "vscode": {
   "interpreter": {
    "hash": "5f181f7a3251216b760c2bacfce121f3dad0a36de78ee0f221da7ccd57e4ba6c"
   }
  }
 },
 "nbformat": 4,
 "nbformat_minor": 2
}
