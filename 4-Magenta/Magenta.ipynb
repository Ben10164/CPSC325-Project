{
 "cells": [
  {
   "attachments": {},
   "cell_type": "markdown",
   "metadata": {
    "vscode": {
     "languageId": "bat"
    }
   },
   "source": [
    "```bat\n",
    "conda install HDF5\n",
    "```\n",
    "\n",
    "taken from https://gist.github.com/xstasi/30123f5976abb5b6c90114b92986a155 \n",
    "```bat\n",
    "brew install portaudio\n",
    "brew link portaudio\n",
    "# copy this\n",
    "brew --prefix portaudio\n",
    "\n",
    "sudo nano $HOME/.pydistutils.cfg\n",
    "\n",
    "# past the following\n",
    "[build_ext]\n",
    "include_dirs=<PATH FROM STEP 3>/include/\n",
    "library_dirs=<PATH FROM STEP 3>/lib/\n",
    "\n",
    "pip install -r requirements-magenta-cpu-apple-m1-m2.txt --no-deps\n",
    "```"
   ]
  },
  {
   "attachments": {},
   "cell_type": "markdown",
   "metadata": {},
   "source": [
    "```bash\n",
    "#@test {\"output\": \"ignore\"}\n",
    "print('Installing dependencies...')\n",
    "!apt-get update -qq && apt-get install -qq libfluidsynth2 fluid-soundfont-gm build-essential libasound2-dev libjack-dev\n",
    "!pip install -qU pyfluidsynth pretty_midi\n",
    "\n",
    "!pip install -qU magenta\n",
    "\n",
    "pip install google.colab\n",
    "```"
   ]
  },
  {
   "attachments": {},
   "cell_type": "markdown",
   "metadata": {},
   "source": [
    "psych, okay so none of this worked because there are problems that went way over my head.\n",
    "\n",
    "i found a docker container though: https://github.com/xychelsea/magenta-docker \n",
    "\n",
    "```bash\n",
    "docker pull xychelsea/magenta:latest-jupyter\n",
    "```"
   ]
  },
  {
   "attachments": {},
   "cell_type": "markdown",
   "metadata": {},
   "source": [
    "SCRATCH ALL OF THAT:\n",
    "\n",
    "Introducing Google-Colab :)\n",
    "\n",
    "okay so their colab notebooks are having some issues. so there has been very little progress made today... :("
   ]
  }
 ],
 "metadata": {
  "kernelspec": {
   "display_name": "base",
   "language": "python",
   "name": "python3"
  },
  "language_info": {
   "codemirror_mode": {
    "name": "ipython",
    "version": 3
   },
   "file_extension": ".py",
   "mimetype": "text/x-python",
   "name": "python",
   "nbconvert_exporter": "python",
   "pygments_lexer": "ipython3",
   "version": "3.8.16"
  },
  "orig_nbformat": 4,
  "vscode": {
   "interpreter": {
    "hash": "5f8c5c8ab154ffd7b7cf769370d90abd279d12a3d937a702f83e9fc02204b3d3"
   }
  }
 },
 "nbformat": 4,
 "nbformat_minor": 2
}
